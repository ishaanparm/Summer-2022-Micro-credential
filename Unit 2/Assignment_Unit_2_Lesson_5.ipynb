{
  "nbformat": 4,
  "nbformat_minor": 0,
  "metadata": {
    "colab": {
      "name": "Assignment Unit 2 Lesson 5",
      "provenance": []
    },
    "kernelspec": {
      "name": "python3",
      "display_name": "Python 3"
    },
    "language_info": {
      "name": "python"
    }
  },
  "cells": [
    {
      "cell_type": "code",
      "execution_count": 1,
      "metadata": {
        "colab": {
          "base_uri": "https://localhost:8080/"
        },
        "id": "5k7vhnR2LAtS",
        "outputId": "abb32b74-01bc-4fa2-9c04-3cacaec772a8"
      },
      "outputs": [
        {
          "output_type": "stream",
          "name": "stdout",
          "text": [
            "Thank you for logging in James_bond.\n",
            "Thank you for logging in Andrew_Tate.\n",
            "Thank you for logging in Top_G.\n",
            "Thank you for logging in The_Slayer.\n",
            "Thank you for logging in The_pun_intended.\n"
          ]
        }
      ],
      "source": [
        "username = [\"James_bond\", \"Andrew_Tate\", \"Top_G\", \"The_Slayer\", \"The_pun_intended\"]\n",
        "for us in username: \n",
        "  if us == \"Admin\":\n",
        "    print (\"Thank you, please have a nice day \" + username[4].upper() + \"!\")\n",
        "  else:\n",
        "    print (\"Thank you for logging in \" + us + \".\")"
      ]
    },
    {
      "cell_type": "code",
      "source": [
        "numbers = list(range(1,11))\n",
        "for num in numbers:\n",
        "  if num == 1:\n",
        "    print (\"1st\")\n",
        "  if num == 2:\n",
        "    print (\"2nd\")\n",
        "  if num == 3:\n",
        "    print (\"3rd\")\n",
        "  else:\n",
        "    print (str(num) + \"th\")"
      ],
      "metadata": {
        "colab": {
          "base_uri": "https://localhost:8080/"
        },
        "id": "-IhSD4hRLi30",
        "outputId": "ae47701b-ffd0-4379-d5d2-a74b67e894e0"
      },
      "execution_count": 2,
      "outputs": [
        {
          "output_type": "stream",
          "name": "stdout",
          "text": [
            "1st\n",
            "1th\n",
            "2nd\n",
            "2th\n",
            "3rd\n",
            "4th\n",
            "5th\n",
            "6th\n",
            "7th\n",
            "8th\n",
            "9th\n",
            "10th\n"
          ]
        }
      ]
    }
  ]
}
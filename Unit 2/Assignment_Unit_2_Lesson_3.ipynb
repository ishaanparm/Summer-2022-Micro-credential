{
  "nbformat": 4,
  "nbformat_minor": 0,
  "metadata": {
    "colab": {
      "name": "Assignment Unit 2 Lesson 3",
      "provenance": []
    },
    "kernelspec": {
      "name": "python3",
      "display_name": "Python 3"
    },
    "language_info": {
      "name": "python"
    }
  },
  "cells": [
    {
      "cell_type": "code",
      "source": [
        "list = [\"Game of Thrones\",\"The Big Bang Theory\", \"Fury\", \"Euphoria\",\"FRIENDS\"]\n",
        "print(list)"
      ],
      "metadata": {
        "colab": {
          "base_uri": "https://localhost:8080/"
        },
        "id": "_Eh9ggc4HSDf",
        "outputId": "bd61e193-1fc7-40e1-fad9-6c3a1d8fb246"
      },
      "execution_count": 5,
      "outputs": [
        {
          "output_type": "stream",
          "name": "stdout",
          "text": [
            "['Game of Thrones', 'The Big Bang Theory', 'Fury', 'Euphoria', 'FRIENDS']\n"
          ]
        }
      ]
    },
    {
      "cell_type": "code",
      "source": [
        "print(sorted(list))"
      ],
      "metadata": {
        "colab": {
          "base_uri": "https://localhost:8080/"
        },
        "id": "MAEji71GHyv0",
        "outputId": "b411649e-2a03-4951-9eb1-deddffb64ebb"
      },
      "execution_count": 6,
      "outputs": [
        {
          "output_type": "stream",
          "name": "stdout",
          "text": [
            "['Euphoria', 'FRIENDS', 'Fury', 'Game of Thrones', 'The Big Bang Theory']\n"
          ]
        }
      ]
    },
    {
      "cell_type": "markdown",
      "source": [
        "sorted is different from sort in that while they both make a certain order, sorted is a temporary sorting while sort is permanent."
      ],
      "metadata": {
        "id": "QulhuFUxH2QR"
      }
    },
    {
      "cell_type": "code",
      "source": [
        "print(list)"
      ],
      "metadata": {
        "colab": {
          "base_uri": "https://localhost:8080/"
        },
        "id": "JBiy3MLzIB2r",
        "outputId": "9909a468-4dc6-4886-fa88-7c93c4e32a55"
      },
      "execution_count": 7,
      "outputs": [
        {
          "output_type": "stream",
          "name": "stdout",
          "text": [
            "['Game of Thrones', 'The Big Bang Theory', 'Fury', 'Euphoria', 'FRIENDS']\n"
          ]
        }
      ]
    },
    {
      "cell_type": "code",
      "source": [
        "list = [\"Runningman\",\"The Office\", \"Stranger Things\", \"Pokemon\",\"Money Heist\"]\n",
        "print(list)\n",
        "print(sorted(list))"
      ],
      "metadata": {
        "colab": {
          "base_uri": "https://localhost:8080/"
        },
        "id": "0Wl3dQXpIGHq",
        "outputId": "593af270-4ca4-4630-a1e2-5ab2f37defa4"
      },
      "execution_count": 8,
      "outputs": [
        {
          "output_type": "stream",
          "name": "stdout",
          "text": [
            "['Runningman', 'The Office', 'Stranger Things', 'Pokemon', 'Money Heist']\n",
            "['Money Heist', 'Pokemon', 'Runningman', 'Stranger Things', 'The Office']\n"
          ]
        }
      ]
    },
    {
      "cell_type": "code",
      "source": [
        "list = [\"Runningman\",\"The Office\", \"Stranger Things\", \"Pokemon\",\"Money Heist\"]\n",
        "print (list)\n",
        "len (list)"
      ],
      "metadata": {
        "colab": {
          "base_uri": "https://localhost:8080/"
        },
        "id": "6-AJpYJbIKMW",
        "outputId": "cf98c8d9-24cd-4822-e09b-fc771e08253c"
      },
      "execution_count": 9,
      "outputs": [
        {
          "output_type": "stream",
          "name": "stdout",
          "text": [
            "['Runningman', 'The Office', 'Stranger Things', 'Pokemon', 'Money Heist']\n"
          ]
        },
        {
          "output_type": "execute_result",
          "data": {
            "text/plain": [
              "5"
            ]
          },
          "metadata": {},
          "execution_count": 9
        }
      ]
    }
  ]
}
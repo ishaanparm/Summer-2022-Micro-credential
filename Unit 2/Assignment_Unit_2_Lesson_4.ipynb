{
  "nbformat": 4,
  "nbformat_minor": 0,
  "metadata": {
    "colab": {
      "name": "Assignment Unit 2 Lesson 4",
      "provenance": [],
      "collapsed_sections": []
    },
    "kernelspec": {
      "name": "python3",
      "display_name": "Python 3"
    },
    "language_info": {
      "name": "python"
    }
  },
  "cells": [
    {
      "cell_type": "code",
      "source": [
        "attractions = [\"Schlinder's List\", \"Elvis\", \"Top Gun Maverick\", \"Hostiles\", \"The Batman\"]\n",
        "for at in attractions:\n",
        "  print (at)\n"
      ],
      "metadata": {
        "colab": {
          "base_uri": "https://localhost:8080/"
        },
        "id": "ow1_Vqz7Idmg",
        "outputId": "740b380d-87eb-46d7-b32c-70df74106703"
      },
      "execution_count": 11,
      "outputs": [
        {
          "output_type": "stream",
          "name": "stdout",
          "text": [
            "Schlinder's List\n",
            "Elvis\n",
            "Top Gun Maverick\n",
            "Hostiles\n",
            "The Batman\n"
          ]
        }
      ]
    },
    {
      "cell_type": "code",
      "source": [
        "attractions = [\"Schlinder's List\", \"Elvis\", \"Top Gun Maverick\", \"Hostiles\", \"The Batman\"]\n",
        "for at in attractions:\n",
        "  print (\"Let's go to \" + at.title() + \" on Sunday.\")"
      ],
      "metadata": {
        "colab": {
          "base_uri": "https://localhost:8080/"
        },
        "id": "IY3G5nZSI4mo",
        "outputId": "927d2702-fc37-4249-a1bb-23e4db9b14e6"
      },
      "execution_count": 13,
      "outputs": [
        {
          "output_type": "stream",
          "name": "stdout",
          "text": [
            "Let's go to Schlinder'S List on Sunday.\n",
            "Let's go to Elvis on Sunday.\n",
            "Let's go to Top Gun Maverick on Sunday.\n",
            "Let's go to Hostiles on Sunday.\n",
            "Let's go to The Batman on Sunday.\n"
          ]
        }
      ]
    },
    {
      "cell_type": "code",
      "source": [
        "numbers = list(range(2, 20, 2))\n",
        "print(numbers)"
      ],
      "metadata": {
        "id": "-PtVuyBvJ2gd"
      },
      "execution_count": null,
      "outputs": []
    },
    {
      "cell_type": "code",
      "source": [
        "attractions = [\"Schlinder's List\", \"Elvis\", \"Top Gun Maverick\", \"Hostiles\", \"The Batman\"]\n",
        "attractions.sort()\n",
        "print (attractions)"
      ],
      "metadata": {
        "colab": {
          "base_uri": "https://localhost:8080/"
        },
        "id": "uljRDbDwKQ1u",
        "outputId": "7448eb93-9152-4827-dc70-df95a9386dff"
      },
      "execution_count": 33,
      "outputs": [
        {
          "output_type": "stream",
          "name": "stdout",
          "text": [
            "['Elvis', 'Hostiles', \"Schlinder's List\", 'The Batman', 'Top Gun Maverick']\n"
          ]
        }
      ]
    },
    {
      "cell_type": "code",
      "source": [
        "attractions = [\"Schlinder's List\", \"Elvis\", \"Top Gun Maverick\", \"Hostiles\", \"The Batman\"]\n",
        "for at in attractions[0:4]:\n",
        "  print (at)"
      ],
      "metadata": {
        "colab": {
          "base_uri": "https://localhost:8080/"
        },
        "id": "Py2--EdkKaEP",
        "outputId": "a0b5c6eb-06dc-45ac-d85f-143ed53016f7"
      },
      "execution_count": 35,
      "outputs": [
        {
          "output_type": "stream",
          "name": "stdout",
          "text": [
            "Schlinder's List\n",
            "Elvis\n",
            "Top Gun Maverick\n",
            "Hostiles\n"
          ]
        }
      ]
    },
    {
      "cell_type": "code",
      "source": [
        "attractions = [\"Roosevelt Island\", \"Dumbo\", \"K-town\", \"Central Park\", \"MOMA\"]\n",
        "for at in attractions[2:6]:\n",
        "  print (at)"
      ],
      "metadata": {
        "colab": {
          "base_uri": "https://localhost:8080/"
        },
        "id": "LkMhrkyTKkOa",
        "outputId": "927461e8-6daa-4d72-b48b-5e212f879fa7"
      },
      "execution_count": 36,
      "outputs": [
        {
          "output_type": "stream",
          "name": "stdout",
          "text": [
            "K-town\n",
            "Central Park\n",
            "MOMA\n"
          ]
        }
      ]
    }
  ]
}
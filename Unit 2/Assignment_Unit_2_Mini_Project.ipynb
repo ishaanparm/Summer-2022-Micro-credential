{
  "nbformat": 4,
  "nbformat_minor": 0,
  "metadata": {
    "colab": {
      "name": "Assignment Unit 2 Mini Project",
      "provenance": []
    },
    "kernelspec": {
      "name": "python3",
      "display_name": "Python 3"
    },
    "language_info": {
      "name": "python"
    }
  },
  "cells": [
    {
      "cell_type": "code",
      "source": [
        "num = int(input(\"Enter a number: \"))\n",
        "mod = num % 2\n",
        "if mod > 0:\n",
        "  print(\"You picked an odd number.\")\n",
        "else:\n",
        "  print(\"You picked an even number.\")\n",
        "if num % 4 == 0:\n",
        "  print (num, \"is a multiple of 4\")"
      ],
      "metadata": {
        "colab": {
          "base_uri": "https://localhost:8080/"
        },
        "id": "yo-dk4cRL_K1",
        "outputId": "3fbce11b-72d3-41dc-d50e-51eb956718f4"
      },
      "execution_count": 3,
      "outputs": [
        {
          "output_type": "stream",
          "name": "stdout",
          "text": [
            "Enter a number: 306\n",
            "You picked an even number.\n"
          ]
        }
      ]
    },
    {
      "cell_type": "code",
      "source": [
        "num = int(input(\"Enter a number: \"))\n",
        "check = int(input(\"Enter a number to divide by: \"))\n",
        "\n",
        "if num % check == 0:\n",
        "  print (\"Does Divides evenly.\")\n",
        "else:\n",
        "  print (\"Does not divide evenly\")"
      ],
      "metadata": {
        "colab": {
          "base_uri": "https://localhost:8080/"
        },
        "id": "gYHH7Q8pME79",
        "outputId": "4a3fb36e-62fb-42b7-a52f-7df902540b66"
      },
      "execution_count": 4,
      "outputs": [
        {
          "output_type": "stream",
          "name": "stdout",
          "text": [
            "Enter a number: 402\n",
            "Enter a number to divide by: 5\n",
            "Does not divide evenly\n"
          ]
        }
      ]
    }
  ]
}
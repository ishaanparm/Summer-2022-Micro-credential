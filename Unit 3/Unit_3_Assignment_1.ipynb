{
  "nbformat": 4,
  "nbformat_minor": 0,
  "metadata": {
    "colab": {
      "name": "Unit 3 Assignment 1",
      "provenance": []
    },
    "kernelspec": {
      "name": "python3",
      "display_name": "Python 3"
    },
    "language_info": {
      "name": "python"
    }
  },
  "cells": [
    {
      "cell_type": "markdown",
      "source": [
        "## 1. Environment Set up"
      ],
      "metadata": {
        "id": "lDPDcOUHR6dK"
      }
    },
    {
      "cell_type": "code",
      "source": [
        "import pandas as pd \n",
        "import numpy as np\n",
        "import matplotlib.pyplot as plt\n",
        "%matplotlib inline\n",
        "np_olympic_country = np.array(['GBR','China','RUS','US','KOR','JPN','GER'])\n",
        "np_olympic_country_Gold = np.array([29,38,24,46,13,7,11])\n",
        "np_olympic_country_Silver = np.array([17,28,25,28,8,14,11])\n",
        "np_olympic_country_Bronze = np.array([19,22,32,29,7,17,14])"
      ],
      "metadata": {
        "id": "07bu6QQwRmt0"
      },
      "execution_count": 6,
      "outputs": []
    },
    {
      "cell_type": "markdown",
      "source": [
        "## 2.\tFind country with maximum gold"
      ],
      "metadata": {
        "id": "ht6jk4uLSS4F"
      }
    },
    {
      "cell_type": "code",
      "source": [
        "np_olympic_country = np.array(['GBR','China','RUS','US','KOR','JPN','GER'])\n",
        "np_olympic_country_Gold = np.array([29,38,24,46,13,7,11])\n",
        "np_olympic_country_Silver = np.array([17,28,25,28,8,14,11])\n",
        "np_olympic_country_Bronze = np.array([19,22,32,29,7,17,14])\n",
        "max_gold = np_olympic_country_Gold==max(np_olympic_country_Gold)\n",
        "print(np_olympic_country[max_gold])"
      ],
      "metadata": {
        "colab": {
          "base_uri": "https://localhost:8080/"
        },
        "id": "IBTx5pxASd-J",
        "outputId": "42afae9c-0bd4-4899-c369-195a253f30af"
      },
      "execution_count": 5,
      "outputs": [
        {
          "output_type": "stream",
          "name": "stdout",
          "text": [
            "['US']\n"
          ]
        }
      ]
    },
    {
      "cell_type": "markdown",
      "source": [
        "## 3.\tFind countries with more than 20 gold medals"
      ],
      "metadata": {
        "id": "Nf1YTkoWSloA"
      }
    },
    {
      "cell_type": "code",
      "source": [
        "more_20 = np_olympic_country_Gold >20\n",
        "print (np_olympic_country[more_20])"
      ],
      "metadata": {
        "colab": {
          "base_uri": "https://localhost:8080/"
        },
        "id": "1hgO5iAgSnEx",
        "outputId": "af94dffc-ee88-489e-b8f9-2b190a96df0f"
      },
      "execution_count": 4,
      "outputs": [
        {
          "output_type": "stream",
          "name": "stdout",
          "text": [
            "['GBR' 'China' 'RUS' 'US']\n"
          ]
        }
      ]
    },
    {
      "cell_type": "markdown",
      "source": [
        "4. Find countries with more than 14 silver medals"
      ],
      "metadata": {
        "id": "yj62aTZOSvEs"
      }
    },
    {
      "cell_type": "code",
      "source": [
        "more_14 = np_olympic_country_Silver >14\n",
        "print (np_olympic_country[more_14])"
      ],
      "metadata": {
        "colab": {
          "base_uri": "https://localhost:8080/"
        },
        "id": "iyTHGW5yS2Vx",
        "outputId": "c5807d15-dc15-4ea0-97a2-8013e2adcad5"
      },
      "execution_count": 3,
      "outputs": [
        {
          "output_type": "stream",
          "name": "stdout",
          "text": [
            "['GBR' 'China' 'RUS' 'US']\n"
          ]
        }
      ]
    }
  ]
}
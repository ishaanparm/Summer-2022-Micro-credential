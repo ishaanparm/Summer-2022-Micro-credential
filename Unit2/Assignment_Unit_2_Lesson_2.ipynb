{
  "nbformat": 4,
  "nbformat_minor": 0,
  "metadata": {
    "colab": {
      "name": "Assignment Unit 2 Lesson 2",
      "provenance": [],
      "authorship_tag": "ABX9TyN6uFlVX282LVz6MDstkht1",
      "include_colab_link": true
    },
    "kernelspec": {
      "name": "python3",
      "display_name": "Python 3"
    },
    "language_info": {
      "name": "python"
    }
  },
  "cells": [
    {
      "cell_type": "markdown",
      "metadata": {
        "id": "view-in-github",
        "colab_type": "text"
      },
      "source": [
        "<a href=\"https://colab.research.google.com/github/ishaanparm/Summer-2022-Micro-credential/blob/main/Assignment_Unit_2_Lesson_2.ipynb\" target=\"_parent\"><img src=\"https://colab.research.google.com/assets/colab-badge.svg\" alt=\"Open In Colab\"/></a>"
      ]
    },
    {
      "cell_type": "markdown",
      "source": [
        "Homework 1 Unit 2 ISHAAN PARMAR"
      ],
      "metadata": {
        "id": "2poikiqYCeZJ"
      }
    },
    {
      "cell_type": "markdown",
      "source": [
        "1. Python is a widely used programming language. It is useful because of the variety of uses that it has. It's also very useful because of its capabilities to handle large amounts of data, complex operations, and it is meant to be a simple form of code which makes processes much easier."
      ],
      "metadata": {
        "id": "NIg7OUC0DCbJ"
      }
    },
    {
      "cell_type": "markdown",
      "source": [
        "2. The only names that are capable of being variables are Greeting_message, Message_1, and Full_name. The other variables have their own issues. \"1_message\" isn't eligible because it starts with a number and \"First name\" isn't eligible because there is a space."
      ],
      "metadata": {
        "id": "dE4wiTYgDKvH"
      }
    },
    {
      "cell_type": "code",
      "source": [
        "Greeting = \"hello there!\"\n",
        "print (Greeting)"
      ],
      "metadata": {
        "colab": {
          "base_uri": "https://localhost:8080/"
        },
        "id": "G7tr6RvXDgcI",
        "outputId": "d08fb7b7-4475-4107-84f8-f3549d8fa1e3"
      },
      "execution_count": 1,
      "outputs": [
        {
          "output_type": "stream",
          "name": "stdout",
          "text": [
            "hello there!\n"
          ]
        }
      ]
    },
    {
      "cell_type": "code",
      "source": [
        "First_name = \"Ishaan\"\n",
        "Surname = \"Parmar\"\n",
        "email = \"@icloud.com\"\n",
        "Full_Email = First_name + Surname + email\n",
        "print (Full_Email)\n"
      ],
      "metadata": {
        "colab": {
          "base_uri": "https://localhost:8080/"
        },
        "id": "EBx0F744Djk2",
        "outputId": "e9ad4fcb-78d1-4acb-8db8-cafc57f0036b"
      },
      "execution_count": 2,
      "outputs": [
        {
          "output_type": "stream",
          "name": "stdout",
          "text": [
            "IshaanParmar@icloud.com\n"
          ]
        }
      ]
    },
    {
      "cell_type": "code",
      "source": [
        "name = \"Arthur\"\n",
        "print(name.upper())\n",
        "print(name.lower())"
      ],
      "metadata": {
        "colab": {
          "base_uri": "https://localhost:8080/"
        },
        "id": "mA3DiA6bDwBB",
        "outputId": "17c2e0e6-3e74-4627-db3f-04f030c83c8e"
      },
      "execution_count": 3,
      "outputs": [
        {
          "output_type": "stream",
          "name": "stdout",
          "text": [
            "ARTHUR\n",
            "arthur\n"
          ]
        }
      ]
    },
    {
      "cell_type": "code",
      "source": [
        "day = \"12\"\n",
        "message = \"Do you want to hang out on the \" + str(day) + \"th of this month?\"\n",
        "print(message)"
      ],
      "metadata": {
        "colab": {
          "base_uri": "https://localhost:8080/"
        },
        "id": "wqN5DR8MD1ok",
        "outputId": "29837031-06b8-41a4-ea6a-71331f0029a6"
      },
      "execution_count": 4,
      "outputs": [
        {
          "output_type": "stream",
          "name": "stdout",
          "text": [
            "Do you want to hang out on the 12th of this month?\n"
          ]
        }
      ]
    }
  ]
}
